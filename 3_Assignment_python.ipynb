{
 "cells": [
  {
   "cell_type": "markdown",
   "id": "e6c0fdb2",
   "metadata": {},
   "source": [
    "# 3_Assignment_python"
   ]
  },
  {
   "cell_type": "markdown",
   "id": "aabe9a92",
   "metadata": {},
   "source": [
    "1. Why are functions advantageous to have in your programs?\n",
    "2. When does the code in a function run: when it's specified or when it's called?\n",
    "3. What statement creates a function?\n",
    "4. What is the difference between a function and a function call?\n",
    "5. How many global scopes are there in a Python program? How many local scopes?\n",
    "6. What happens to variables in a local scope when the function call returns?\n",
    "7. What is the concept of a return value? Is it possible to have a return value in an expression?\n",
    "8. If a function does not have a return statement, what is the return value of a call to that function?\n",
    "9. How do you make a function variable refer to the global variable?\n",
    "10. What is the data type of None?\n",
    "11. What does the sentence import areallyourpetsnamederic do?\n",
    "12. If you had a bacon() feature in a spam module, what would you call it after importing spam?\n",
    "13. What can you do to save a programme from crashing if it encounters an error?\n",
    "14. What is the purpose of the try clause? What is the purpose of the except clause?"
   ]
  },
  {
   "cell_type": "markdown",
   "id": "b9ec99e1",
   "metadata": {},
   "source": [
    "# QUE(1)"
   ]
  },
  {
   "cell_type": "markdown",
   "id": "85db42da",
   "metadata": {},
   "source": [
    "1. Why are functions advantageous to have in your programs?1. Why are functions advantageous to have in your programs?"
   ]
  },
  {
   "cell_type": "markdown",
   "id": "7b95d0b4",
   "metadata": {},
   "source": [
    "solution :- \n",
    "    \n",
    "        function are user defined function or python in build function \n",
    "        \n",
    "        > function are used for reusable \n",
    "        > user defined function are also can be reuse once it created\n",
    "        > function reduce the needs of the duplicate code "
   ]
  },
  {
   "cell_type": "markdown",
   "id": "fcd80f0c",
   "metadata": {},
   "source": [
    "# QUE(2)"
   ]
  },
  {
   "cell_type": "markdown",
   "id": "f0d2a3a5",
   "metadata": {},
   "source": [
    "2. When does the code in a function run: when it's specified or when it's called?"
   ]
  },
  {
   "cell_type": "markdown",
   "id": "d34cbb74",
   "metadata": {},
   "source": [
    "solution :- code in function will execute when it called "
   ]
  },
  {
   "cell_type": "markdown",
   "id": "d272f0fa",
   "metadata": {},
   "source": [
    "# QUE(3)"
   ]
  },
  {
   "cell_type": "markdown",
   "id": "db99cbcb",
   "metadata": {},
   "source": [
    "3. What statement creates a function?"
   ]
  },
  {
   "cell_type": "markdown",
   "id": "994aeea3",
   "metadata": {},
   "source": [
    "solution :- def statement is used to create a function and the meaning of def is defination "
   ]
  },
  {
   "cell_type": "markdown",
   "id": "890819b7",
   "metadata": {},
   "source": [
    " # QUE(4)"
   ]
  },
  {
   "cell_type": "markdown",
   "id": "934d8b32",
   "metadata": {},
   "source": [
    "4. What is the difference between a function and a function call?"
   ]
  },
  {
   "cell_type": "markdown",
   "id": "2e2d1d7c",
   "metadata": {},
   "source": [
    "solution :- function is once created we can reuse function again and all the code should be writtern inside a function when it time to execute so this is called a function call"
   ]
  },
  {
   "cell_type": "markdown",
   "id": "ab3ed5b2",
   "metadata": {},
   "source": [
    "# QUE(5)"
   ]
  },
  {
   "cell_type": "markdown",
   "id": "8358e753",
   "metadata": {},
   "source": [
    "5. How many global scopes are there in a Python program? How many local scopes?"
   ]
  },
  {
   "cell_type": "markdown",
   "id": "d3a7034d",
   "metadata": {},
   "source": [
    "solution :- There is one global scope, and a local scope is created whenever a function is called."
   ]
  },
  {
   "cell_type": "markdown",
   "id": "d8b41b82",
   "metadata": {},
   "source": [
    "# QUE(6)"
   ]
  },
  {
   "cell_type": "markdown",
   "id": "4157be4f",
   "metadata": {},
   "source": [
    "6. What happens to variables in a local scope when the function call returns?"
   ]
  },
  {
   "cell_type": "markdown",
   "id": "c42f30d4",
   "metadata": {},
   "source": [
    "solution :- when function is call and inside a function there are local scope than it destroyed all the default value and enters a new"
   ]
  },
  {
   "cell_type": "markdown",
   "id": "b6c55d10",
   "metadata": {},
   "source": [
    "# QUE(7)"
   ]
  },
  {
   "cell_type": "markdown",
   "id": "c83ae280",
   "metadata": {},
   "source": [
    "7. What is the concept of a return value? Is it possible to have a return value in an expression?"
   ]
  },
  {
   "cell_type": "markdown",
   "id": "3ec893a3",
   "metadata": {},
   "source": [
    "solution :- return statement is used to give an output , a return value can be used as part of an expression."
   ]
  },
  {
   "cell_type": "markdown",
   "id": "a9a83622",
   "metadata": {},
   "source": [
    "# QUE(8)"
   ]
  },
  {
   "cell_type": "markdown",
   "id": "707d51a0",
   "metadata": {},
   "source": [
    "8. If a function does not have a return statement, what is the return value of a call to that function?"
   ]
  },
  {
   "cell_type": "markdown",
   "id": "e082ec27",
   "metadata": {},
   "source": [
    "solution :- if there is no return statement than return value be None"
   ]
  },
  {
   "cell_type": "markdown",
   "id": "bd0ac812",
   "metadata": {},
   "source": [
    "# QUE(9)"
   ]
  },
  {
   "cell_type": "markdown",
   "id": "4c860fef",
   "metadata": {},
   "source": [
    "9. How do you make a function variable refer to the global variable?"
   ]
  },
  {
   "cell_type": "markdown",
   "id": "5af1a49f",
   "metadata": {},
   "source": [
    "solution :- when we created a variable inside a function , it is local variable but when we use global keyword than it to be become global "
   ]
  },
  {
   "cell_type": "markdown",
   "id": "301a70d3",
   "metadata": {},
   "source": [
    "# QUE(10)"
   ]
  },
  {
   "cell_type": "markdown",
   "id": "021214c8",
   "metadata": {},
   "source": [
    "10. What is the data type of None?"
   ]
  },
  {
   "cell_type": "markdown",
   "id": "724d0847",
   "metadata": {},
   "source": [
    "solution :- NoneType is the data type of none"
   ]
  },
  {
   "cell_type": "markdown",
   "id": "932da2d5",
   "metadata": {},
   "source": [
    "# QUE(11)"
   ]
  },
  {
   "cell_type": "markdown",
   "id": "e5b712e2",
   "metadata": {},
   "source": [
    "11. What does the sentence import areallyourpetsnamederic do?"
   ]
  },
  {
   "cell_type": "markdown",
   "id": "b0dfb5ee",
   "metadata": {},
   "source": [
    "solution :- import is used to import a module and areallyourpetsnamederic is a module name to which we want to import\n",
    "\n",
    "            example -- import pandas "
   ]
  },
  {
   "cell_type": "markdown",
   "id": "238fc6ea",
   "metadata": {},
   "source": [
    "# QUE(12)"
   ]
  },
  {
   "cell_type": "markdown",
   "id": "792f8bc2",
   "metadata": {},
   "source": [
    "12. If you had a bacon() feature in a spam module, what would you call it after importing spam?"
   ]
  },
  {
   "cell_type": "markdown",
   "id": "77c58db4",
   "metadata": {},
   "source": [
    "solution :- when we want to import bacon() feature from spam module. \n",
    "    \n",
    "            i.e ---> spam.bacon()"
   ]
  },
  {
   "cell_type": "markdown",
   "id": "3a99db7d",
   "metadata": {},
   "source": [
    "# QUE(13)"
   ]
  },
  {
   "cell_type": "markdown",
   "id": "2cfbe834",
   "metadata": {},
   "source": [
    "13. What can you do to save a programme from crashing if it encounters an error?"
   ]
  },
  {
   "cell_type": "markdown",
   "id": "3c4176cb",
   "metadata": {},
   "source": [
    "solution :- If an error occurs in a program, we don’t want the program to unexpectedly crash on the user. Instead, error handling can be used to notify the user of why the error occurred and gracefully exit the process that caused the error."
   ]
  },
  {
   "cell_type": "markdown",
   "id": "02830956",
   "metadata": {},
   "source": [
    "# QUE(14)"
   ]
  },
  {
   "cell_type": "markdown",
   "id": "900ed677",
   "metadata": {},
   "source": [
    "14. What is the purpose of the try clause? What is the purpose of the except clause?"
   ]
  },
  {
   "cell_type": "markdown",
   "id": "34691d42",
   "metadata": {},
   "source": [
    "solution :- try-except is used to handle exception of the code.\n",
    "             \n",
    "            purpose of the try-except block is :-\n",
    "            try block where all the code procedure taken place\n",
    "            except block is used to handle a error "
   ]
  },
  {
   "cell_type": "code",
   "execution_count": null,
   "id": "9a491c66",
   "metadata": {},
   "outputs": [],
   "source": []
  }
 ],
 "metadata": {
  "kernelspec": {
   "display_name": "Python 3 (ipykernel)",
   "language": "python",
   "name": "python3"
  },
  "language_info": {
   "codemirror_mode": {
    "name": "ipython",
    "version": 3
   },
   "file_extension": ".py",
   "mimetype": "text/x-python",
   "name": "python",
   "nbconvert_exporter": "python",
   "pygments_lexer": "ipython3",
   "version": "3.9.12"
  }
 },
 "nbformat": 4,
 "nbformat_minor": 5
}
